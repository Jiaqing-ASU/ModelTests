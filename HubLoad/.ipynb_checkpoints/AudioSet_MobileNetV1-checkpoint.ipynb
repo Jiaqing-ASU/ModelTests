{
 "cells": [
  {
   "cell_type": "code",
   "execution_count": 1,
   "metadata": {},
   "outputs": [
    {
     "name": "stdout",
     "output_type": "stream",
     "text": [
      "Silence\n"
     ]
    }
   ],
   "source": [
    "import tensorflow as tf\n",
    "import tensorflow_hub as hub\n",
    "import numpy as np\n",
    "import csv\n",
    "import io\n",
    "\n",
    "# Load the model.\n",
    "model = hub.load('https://tfhub.dev/google/yamnet/1')\n",
    "\n",
    "# Input: 3 seconds of silence as mono 16 kHz waveform samples.\n",
    "waveform = np.zeros(3 * 16000, dtype=np.float32)\n",
    "\n",
    "# Run the model, check the output.\n",
    "scores, embeddings, log_mel_spectrogram = model(waveform)\n",
    "scores.shape.assert_is_compatible_with([None, 521])\n",
    "embeddings.shape.assert_is_compatible_with([None, 1024])\n",
    "log_mel_spectrogram.shape.assert_is_compatible_with([None, 64])\n",
    "\n",
    "# Find the name of the class with the top score when mean-aggregated across frames.\n",
    "def class_names_from_csv(class_map_csv_text):\n",
    "  \"\"\"Returns list of class names corresponding to score vector.\"\"\"\n",
    "  class_map_csv = io.StringIO(class_map_csv_text)\n",
    "  class_names = [display_name for (class_index, mid, display_name) in csv.reader(class_map_csv)]\n",
    "  class_names = class_names[1:]  # Skip CSV header\n",
    "  return class_names\n",
    "class_map_path = model.class_map_path().numpy()\n",
    "class_names = class_names_from_csv(tf.io.read_file(class_map_path).numpy().decode('utf-8'))\n",
    "print(class_names[scores.numpy().mean(axis=0).argmax()])  # Should print 'Silence'."
   ]
  },
  {
   "cell_type": "code",
   "execution_count": null,
   "metadata": {},
   "outputs": [],
   "source": []
  }
 ],
 "metadata": {
  "kernelspec": {
   "display_name": "Python 3",
   "language": "python",
   "name": "python3"
  },
  "language_info": {
   "codemirror_mode": {
    "name": "ipython",
    "version": 3
   },
   "file_extension": ".py",
   "mimetype": "text/x-python",
   "name": "python",
   "nbconvert_exporter": "python",
   "pygments_lexer": "ipython3",
   "version": "3.7.5"
  }
 },
 "nbformat": 4,
 "nbformat_minor": 2
}
