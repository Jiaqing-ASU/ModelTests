{
 "cells": [
  {
   "cell_type": "code",
   "execution_count": 1,
   "metadata": {},
   "outputs": [
    {
     "name": "stdout",
     "output_type": "stream",
     "text": [
      "Requirement already satisfied: tensorflow==1.15 in /Users/jiaqingchen/opt/anaconda3/lib/python3.7/site-packages (1.15.0)\n",
      "Requirement already satisfied: opt-einsum>=2.3.2 in /Users/jiaqingchen/opt/anaconda3/lib/python3.7/site-packages (from tensorflow==1.15) (3.1.0)\n",
      "Requirement already satisfied: wrapt>=1.11.1 in /Users/jiaqingchen/opt/anaconda3/lib/python3.7/site-packages (from tensorflow==1.15) (1.12.1)\n",
      "Requirement already satisfied: keras-preprocessing>=1.0.5 in /Users/jiaqingchen/opt/anaconda3/lib/python3.7/site-packages (from tensorflow==1.15) (1.1.2)\n",
      "Requirement already satisfied: grpcio>=1.8.6 in /Users/jiaqingchen/opt/anaconda3/lib/python3.7/site-packages (from tensorflow==1.15) (1.32.0)\n",
      "Requirement already satisfied: tensorboard<1.16.0,>=1.15.0 in /Users/jiaqingchen/opt/anaconda3/lib/python3.7/site-packages (from tensorflow==1.15) (1.15.0)\n",
      "Requirement already satisfied: protobuf>=3.6.1 in /Users/jiaqingchen/opt/anaconda3/lib/python3.7/site-packages (from tensorflow==1.15) (3.11.0)\n",
      "Requirement already satisfied: keras-applications>=1.0.8 in /Users/jiaqingchen/opt/anaconda3/lib/python3.7/site-packages (from tensorflow==1.15) (1.0.8)\n",
      "Requirement already satisfied: google-pasta>=0.1.6 in /Users/jiaqingchen/opt/anaconda3/lib/python3.7/site-packages (from tensorflow==1.15) (0.2.0)\n",
      "Requirement already satisfied: wheel>=0.26 in /Users/jiaqingchen/opt/anaconda3/lib/python3.7/site-packages (from tensorflow==1.15) (0.36.2)\n",
      "Requirement already satisfied: absl-py>=0.7.0 in /Users/jiaqingchen/opt/anaconda3/lib/python3.7/site-packages (from tensorflow==1.15) (0.11.0)\n",
      "Requirement already satisfied: termcolor>=1.1.0 in /Users/jiaqingchen/opt/anaconda3/lib/python3.7/site-packages (from tensorflow==1.15) (1.1.0)\n",
      "Requirement already satisfied: six>=1.10.0 in /Users/jiaqingchen/opt/anaconda3/lib/python3.7/site-packages (from tensorflow==1.15) (1.15.0)\n",
      "Requirement already satisfied: numpy<2.0,>=1.16.0 in /Users/jiaqingchen/opt/anaconda3/lib/python3.7/site-packages (from tensorflow==1.15) (1.18.5)\n",
      "Requirement already satisfied: gast==0.2.2 in /Users/jiaqingchen/opt/anaconda3/lib/python3.7/site-packages (from tensorflow==1.15) (0.2.2)\n",
      "Requirement already satisfied: tensorflow-estimator==1.15.1 in /Users/jiaqingchen/opt/anaconda3/lib/python3.7/site-packages (from tensorflow==1.15) (1.15.1)\n",
      "Requirement already satisfied: astor>=0.6.0 in /Users/jiaqingchen/opt/anaconda3/lib/python3.7/site-packages (from tensorflow==1.15) (0.8.0)\n",
      "Requirement already satisfied: werkzeug>=0.11.15 in /Users/jiaqingchen/opt/anaconda3/lib/python3.7/site-packages (from tensorboard<1.16.0,>=1.15.0->tensorflow==1.15) (0.16.0)\n",
      "Requirement already satisfied: setuptools>=41.0.0 in /Users/jiaqingchen/opt/anaconda3/lib/python3.7/site-packages (from tensorboard<1.16.0,>=1.15.0->tensorflow==1.15) (42.0.1.post20191125)\n",
      "Requirement already satisfied: markdown>=2.6.8 in /Users/jiaqingchen/opt/anaconda3/lib/python3.7/site-packages (from tensorboard<1.16.0,>=1.15.0->tensorflow==1.15) (3.1.1)\n",
      "Requirement already satisfied: h5py in /Users/jiaqingchen/opt/anaconda3/lib/python3.7/site-packages (from keras-applications>=1.0.8->tensorflow==1.15) (2.10.0)\n",
      "Requirement already satisfied: tensorflow_hub>=0.6.0 in /Users/jiaqingchen/opt/anaconda3/lib/python3.7/site-packages (0.7.0)\n",
      "Requirement already satisfied: numpy>=1.12.0 in /Users/jiaqingchen/opt/anaconda3/lib/python3.7/site-packages (from tensorflow_hub>=0.6.0) (1.18.5)\n",
      "Requirement already satisfied: protobuf>=3.4.0 in /Users/jiaqingchen/opt/anaconda3/lib/python3.7/site-packages (from tensorflow_hub>=0.6.0) (3.11.0)\n",
      "Requirement already satisfied: six>=1.10.0 in /Users/jiaqingchen/opt/anaconda3/lib/python3.7/site-packages (from tensorflow_hub>=0.6.0) (1.15.0)\n",
      "Requirement already satisfied: setuptools in /Users/jiaqingchen/opt/anaconda3/lib/python3.7/site-packages (from protobuf>=3.4.0->tensorflow_hub>=0.6.0) (42.0.1.post20191125)\n",
      "Requirement already satisfied: tensorflow_text==1.15.1 in /Users/jiaqingchen/opt/anaconda3/lib/python3.7/site-packages (1.15.1)\n",
      "Requirement already satisfied: tensorflow<1.16,>=1.15.0 in /Users/jiaqingchen/opt/anaconda3/lib/python3.7/site-packages (from tensorflow_text==1.15.1) (1.15.0)\n",
      "Requirement already satisfied: tensorflow-estimator==1.15.1 in /Users/jiaqingchen/opt/anaconda3/lib/python3.7/site-packages (from tensorflow<1.16,>=1.15.0->tensorflow_text==1.15.1) (1.15.1)\n",
      "Requirement already satisfied: absl-py>=0.7.0 in /Users/jiaqingchen/opt/anaconda3/lib/python3.7/site-packages (from tensorflow<1.16,>=1.15.0->tensorflow_text==1.15.1) (0.11.0)\n",
      "Requirement already satisfied: keras-applications>=1.0.8 in /Users/jiaqingchen/opt/anaconda3/lib/python3.7/site-packages (from tensorflow<1.16,>=1.15.0->tensorflow_text==1.15.1) (1.0.8)\n",
      "Requirement already satisfied: google-pasta>=0.1.6 in /Users/jiaqingchen/opt/anaconda3/lib/python3.7/site-packages (from tensorflow<1.16,>=1.15.0->tensorflow_text==1.15.1) (0.2.0)\n",
      "Requirement already satisfied: six>=1.10.0 in /Users/jiaqingchen/opt/anaconda3/lib/python3.7/site-packages (from tensorflow<1.16,>=1.15.0->tensorflow_text==1.15.1) (1.15.0)\n",
      "Requirement already satisfied: termcolor>=1.1.0 in /Users/jiaqingchen/opt/anaconda3/lib/python3.7/site-packages (from tensorflow<1.16,>=1.15.0->tensorflow_text==1.15.1) (1.1.0)\n",
      "Requirement already satisfied: wheel>=0.26 in /Users/jiaqingchen/opt/anaconda3/lib/python3.7/site-packages (from tensorflow<1.16,>=1.15.0->tensorflow_text==1.15.1) (0.36.2)\n",
      "Requirement already satisfied: gast==0.2.2 in /Users/jiaqingchen/opt/anaconda3/lib/python3.7/site-packages (from tensorflow<1.16,>=1.15.0->tensorflow_text==1.15.1) (0.2.2)\n",
      "Requirement already satisfied: numpy<2.0,>=1.16.0 in /Users/jiaqingchen/opt/anaconda3/lib/python3.7/site-packages (from tensorflow<1.16,>=1.15.0->tensorflow_text==1.15.1) (1.18.5)\n",
      "Requirement already satisfied: tensorboard<1.16.0,>=1.15.0 in /Users/jiaqingchen/opt/anaconda3/lib/python3.7/site-packages (from tensorflow<1.16,>=1.15.0->tensorflow_text==1.15.1) (1.15.0)\n",
      "Requirement already satisfied: protobuf>=3.6.1 in /Users/jiaqingchen/opt/anaconda3/lib/python3.7/site-packages (from tensorflow<1.16,>=1.15.0->tensorflow_text==1.15.1) (3.11.0)\n",
      "Requirement already satisfied: grpcio>=1.8.6 in /Users/jiaqingchen/opt/anaconda3/lib/python3.7/site-packages (from tensorflow<1.16,>=1.15.0->tensorflow_text==1.15.1) (1.32.0)\n",
      "Requirement already satisfied: opt-einsum>=2.3.2 in /Users/jiaqingchen/opt/anaconda3/lib/python3.7/site-packages (from tensorflow<1.16,>=1.15.0->tensorflow_text==1.15.1) (3.1.0)\n",
      "Requirement already satisfied: wrapt>=1.11.1 in /Users/jiaqingchen/opt/anaconda3/lib/python3.7/site-packages (from tensorflow<1.16,>=1.15.0->tensorflow_text==1.15.1) (1.12.1)\n",
      "Requirement already satisfied: keras-preprocessing>=1.0.5 in /Users/jiaqingchen/opt/anaconda3/lib/python3.7/site-packages (from tensorflow<1.16,>=1.15.0->tensorflow_text==1.15.1) (1.1.2)\n",
      "Requirement already satisfied: astor>=0.6.0 in /Users/jiaqingchen/opt/anaconda3/lib/python3.7/site-packages (from tensorflow<1.16,>=1.15.0->tensorflow_text==1.15.1) (0.8.0)\n",
      "Requirement already satisfied: h5py in /Users/jiaqingchen/opt/anaconda3/lib/python3.7/site-packages (from keras-applications>=1.0.8->tensorflow<1.16,>=1.15.0->tensorflow_text==1.15.1) (2.10.0)\n",
      "Requirement already satisfied: markdown>=2.6.8 in /Users/jiaqingchen/opt/anaconda3/lib/python3.7/site-packages (from tensorboard<1.16.0,>=1.15.0->tensorflow<1.16,>=1.15.0->tensorflow_text==1.15.1) (3.1.1)\n",
      "Requirement already satisfied: werkzeug>=0.11.15 in /Users/jiaqingchen/opt/anaconda3/lib/python3.7/site-packages (from tensorboard<1.16.0,>=1.15.0->tensorflow<1.16,>=1.15.0->tensorflow_text==1.15.1) (0.16.0)\n",
      "Requirement already satisfied: setuptools>=41.0.0 in /Users/jiaqingchen/opt/anaconda3/lib/python3.7/site-packages (from tensorboard<1.16.0,>=1.15.0->tensorflow<1.16,>=1.15.0->tensorflow_text==1.15.1) (42.0.1.post20191125)\n",
      "Requirement already satisfied: seaborn in /Users/jiaqingchen/opt/anaconda3/lib/python3.7/site-packages (0.9.0)\n",
      "Requirement already satisfied: scipy>=0.14.0 in /Users/jiaqingchen/opt/anaconda3/lib/python3.7/site-packages (from seaborn) (1.3.1)\n",
      "Requirement already satisfied: numpy>=1.9.3 in /Users/jiaqingchen/opt/anaconda3/lib/python3.7/site-packages (from seaborn) (1.18.5)\n",
      "Requirement already satisfied: matplotlib>=1.4.3 in /Users/jiaqingchen/opt/anaconda3/lib/python3.7/site-packages (from seaborn) (3.1.1)\n",
      "Requirement already satisfied: pandas>=0.15.2 in /Users/jiaqingchen/opt/anaconda3/lib/python3.7/site-packages (from seaborn) (0.25.3)\n",
      "Requirement already satisfied: cycler>=0.10 in /Users/jiaqingchen/opt/anaconda3/lib/python3.7/site-packages (from matplotlib>=1.4.3->seaborn) (0.10.0)\n",
      "Requirement already satisfied: kiwisolver>=1.0.1 in /Users/jiaqingchen/opt/anaconda3/lib/python3.7/site-packages (from matplotlib>=1.4.3->seaborn) (1.1.0)\n",
      "Requirement already satisfied: pyparsing!=2.0.4,!=2.1.2,!=2.1.6,>=2.0.1 in /Users/jiaqingchen/opt/anaconda3/lib/python3.7/site-packages (from matplotlib>=1.4.3->seaborn) (2.4.5)\n"
     ]
    },
    {
     "name": "stdout",
     "output_type": "stream",
     "text": [
      "Requirement already satisfied: python-dateutil>=2.1 in /Users/jiaqingchen/opt/anaconda3/lib/python3.7/site-packages (from matplotlib>=1.4.3->seaborn) (2.8.1)\n",
      "Requirement already satisfied: pytz>=2017.2 in /Users/jiaqingchen/opt/anaconda3/lib/python3.7/site-packages (from pandas>=0.15.2->seaborn) (2019.3)\n",
      "Requirement already satisfied: six in /Users/jiaqingchen/opt/anaconda3/lib/python3.7/site-packages (from cycler>=0.10->matplotlib>=1.4.3->seaborn) (1.15.0)\n",
      "Requirement already satisfied: setuptools in /Users/jiaqingchen/opt/anaconda3/lib/python3.7/site-packages (from kiwisolver>=1.0.1->matplotlib>=1.4.3->seaborn) (42.0.1.post20191125)\n",
      "WARNING:tensorflow:From /Users/jiaqingchen/opt/anaconda3/lib/python3.7/site-packages/tensorflow_core/python/ops/resource_variable_ops.py:1781: calling BaseResourceVariable.__init__ (from tensorflow.python.ops.resource_variable_ops) with constraint is deprecated and will be removed in a future version.\n",
      "Instructions for updating:\n",
      "If using Keras pass *_constraint arguments to layers.\n"
     ]
    },
    {
     "name": "stderr",
     "output_type": "stream",
     "text": [
      "WARNING:tensorflow:From /Users/jiaqingchen/opt/anaconda3/lib/python3.7/site-packages/tensorflow_core/python/ops/resource_variable_ops.py:1781: calling BaseResourceVariable.__init__ (from tensorflow.python.ops.resource_variable_ops) with constraint is deprecated and will be removed in a future version.\n",
      "Instructions for updating:\n",
      "If using Keras pass *_constraint arguments to layers.\n"
     ]
    },
    {
     "name": "stdout",
     "output_type": "stream",
     "text": [
      "Tensor(\"StatefulPartitionedCall_1:0\", shape=(?, 512), dtype=float32)\n"
     ]
    }
   ],
   "source": [
    "!pip install tensorflow==1.15\n",
    "!pip install \"tensorflow_hub>=0.6.0\"\n",
    "!pip3 install tensorflow_text==1.15.1\n",
    "!pip3 install seaborn\n",
    "\n",
    "import tensorflow as tf\n",
    "import tensorflow_hub as hub\n",
    "import numpy as np\n",
    "import tensorflow_text\n",
    "\n",
    "embed = hub.load(\"https://tfhub.dev/google/universal-sentence-encoder-large/5\")\n",
    "embeddings = embed([\n",
    "    \"The quick brown fox jumps over the lazy dog.\",\n",
    "    \"I am a sentence for which I would like to get its embedding\"])\n",
    "print(embeddings)"
   ]
  },
  {
   "cell_type": "code",
   "execution_count": null,
   "metadata": {},
   "outputs": [],
   "source": []
  }
 ],
 "metadata": {
  "kernelspec": {
   "display_name": "Python 3",
   "language": "python",
   "name": "python3"
  },
  "language_info": {
   "codemirror_mode": {
    "name": "ipython",
    "version": 3
   },
   "file_extension": ".py",
   "mimetype": "text/x-python",
   "name": "python",
   "nbconvert_exporter": "python",
   "pygments_lexer": "ipython3",
   "version": "3.7.5"
  }
 },
 "nbformat": 4,
 "nbformat_minor": 2
}
