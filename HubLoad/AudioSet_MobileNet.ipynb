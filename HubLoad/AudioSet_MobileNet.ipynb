{
 "cells": [
  {
   "cell_type": "code",
   "execution_count": 1,
   "metadata": {},
   "outputs": [
    {
     "name": "stdout",
     "output_type": "stream",
     "text": [
      "tf.Tensor(\n",
      "[[-0.22833118 -0.00280589  0.0718538  ...  0.03237022 -0.03428769\n",
      "   0.10990578]], shape=(1, 2048), dtype=float32)\n"
     ]
    }
   ],
   "source": [
    "# Import TF 2.X and make sure we're running eager.\n",
    "import tensorflow.compat.v2 as tf\n",
    "tf.enable_v2_behavior()\n",
    "assert tf.executing_eagerly()\n",
    "\n",
    "import tensorflow_hub as hub\n",
    "import numpy as np\n",
    "\n",
    "# Load the module and run inference.\n",
    "module = hub.load('https://tfhub.dev/google/nonsemantic-speech-benchmark/trill-distilled/3')\n",
    "# `wav_as_float_or_int16` can be a numpy array or tf.Tensor of float type or\n",
    "# int16. The sample rate must be 16kHz. Resample to this sample rate, if\n",
    "# necessary.\n",
    "wav_as_float_or_int16 = np.sin(np.linspace(-np.pi, np.pi, 128), dtype=np.float32)\n",
    "emb = module(samples=wav_as_float_or_int16, sample_rate=16000)['embedding']\n",
    "# `emb` is a [time, feature_dim] Tensor.\n",
    "emb.shape.assert_is_compatible_with([None, 2048])\n",
    "\n",
    "print(emb)"
   ]
  },
  {
   "cell_type": "code",
   "execution_count": null,
   "metadata": {},
   "outputs": [],
   "source": []
  }
 ],
 "metadata": {
  "kernelspec": {
   "display_name": "Python 3",
   "language": "python",
   "name": "python3"
  },
  "language_info": {
   "codemirror_mode": {
    "name": "ipython",
    "version": 3
   },
   "file_extension": ".py",
   "mimetype": "text/x-python",
   "name": "python",
   "nbconvert_exporter": "python",
   "pygments_lexer": "ipython3",
   "version": "3.7.5"
  }
 },
 "nbformat": 4,
 "nbformat_minor": 2
}
